{
 "cells": [
  {
   "cell_type": "markdown",
   "id": "7cfc5260",
   "metadata": {},
   "source": [
    "# Blackjack Game Project\n",
    "In this project, I have used object oriented programming (OOP) and classes to create a Complete BlackJack ([BlackJack](https://en.wikipedia.org/wiki/Blackjack) ) Card Game in Python.\n",
    "\n",
    "Here are the requirements:\n",
    "* The game needs to have one player versus an automated dealer.\n",
    "* The player can stand or hit.\n",
    "* The player must be able to pick their betting amount.\n",
    "* You need to keep track of the player's total money.\n",
    "* You need to alert the player of wins, losses, or busts, etc..."
   ]
  },
  {
   "cell_type": "code",
   "execution_count": 3,
   "id": "90412c34",
   "metadata": {},
   "outputs": [],
   "source": [
    "import random\n",
    "\n",
    "suits = ('Hearts', 'Diamonds', 'Spades', 'Clubs')\n",
    "ranks = ('Two', 'Three', 'Four', 'Five', 'Six', 'Seven', 'Eight', 'Nine', 'Ten', 'Jack', 'Queen', 'King', 'Ace')\n",
    "values = {'Two':2, 'Three':3, 'Four':4, 'Five':5, 'Six':6, 'Seven':7, 'Eight':8, \n",
    "            'Nine':9, 'Ten':10, 'Jack':10, 'Queen':10, 'King':10, 'Ace':11}\n"
   ]
  },
  {
   "cell_type": "code",
   "execution_count": 4,
   "id": "21a0b6ee",
   "metadata": {},
   "outputs": [],
   "source": [
    "# class card creates card objects/different cards of each suit\n",
    "class Card():\n",
    "    def __init__(self, suit, rank):\n",
    "        self.suit = suit\n",
    "        self.rank = rank\n",
    "        self.value = values[rank]\n",
    "    def __str__(self):\n",
    "        return (f'{self.rank} of {self.suit}') # or return self.rank + \"of\" + self.suit"
   ]
  },
  {
   "cell_type": "code",
   "execution_count": 5,
   "id": "136952c3",
   "metadata": {},
   "outputs": [],
   "source": [
    "my_cards = Card(suits[0], ranks[0])"
   ]
  },
  {
   "cell_type": "code",
   "execution_count": 6,
   "id": "ae9b596f",
   "metadata": {},
   "outputs": [
    {
     "data": {
      "text/plain": [
       "'Two'"
      ]
     },
     "execution_count": 6,
     "metadata": {},
     "output_type": "execute_result"
    }
   ],
   "source": [
    "my_cards.rank"
   ]
  },
  {
   "cell_type": "code",
   "execution_count": 7,
   "id": "3e5ba195",
   "metadata": {},
   "outputs": [
    {
     "data": {
      "text/plain": [
       "'Hearts'"
      ]
     },
     "execution_count": 7,
     "metadata": {},
     "output_type": "execute_result"
    }
   ],
   "source": [
    "my_cards.suit"
   ]
  },
  {
   "cell_type": "code",
   "execution_count": 8,
   "id": "562e1801",
   "metadata": {},
   "outputs": [
    {
     "data": {
      "text/plain": [
       "2"
      ]
     },
     "execution_count": 8,
     "metadata": {},
     "output_type": "execute_result"
    }
   ],
   "source": [
    "my_cards.value"
   ]
  },
  {
   "cell_type": "code",
   "execution_count": null,
   "id": "573e6d32",
   "metadata": {},
   "outputs": [],
   "source": []
  },
  {
   "cell_type": "code",
   "execution_count": 9,
   "id": "c3bce6a6",
   "metadata": {},
   "outputs": [],
   "source": [
    "# Deck is a class, it can have objects such as deck1 or deck2 or mycard_deck1. \n",
    "# The all_cards is the attribute of its objcet/objects\n",
    "\n",
    "class Deck():\n",
    "    \n",
    "    def __init__(self):\n",
    "        self.all_cards = []\n",
    "        \n",
    "        for suit in suits:\n",
    "            for rank in ranks:\n",
    "                self.all_cards.append(Card(suit,rank))\n",
    "                \n",
    "    def shuffle (self):\n",
    "        random.shuffle(self.all_cards)\n",
    "        \n",
    "    def deal_one(self):\n",
    "        return self.all_cards.pop(0)"
   ]
  },
  {
   "cell_type": "code",
   "execution_count": null,
   "id": "8f0db791",
   "metadata": {},
   "outputs": [],
   "source": []
  },
  {
   "cell_type": "code",
   "execution_count": 10,
   "id": "22b37183",
   "metadata": {},
   "outputs": [],
   "source": [
    "class Player:\n",
    "    \n",
    "    def __init__(self,name):\n",
    "        self.name = name\n",
    "        self.cards =[]\n",
    "    \n",
    "    def hit (self,add_third_card):\n",
    "        self.cards.append(add_third_card)\n",
    "        \n",
    "    def stay (self):\n",
    "        print(\"Player One: Stay!\")\n",
    "    \n",
    "    def __str__(self):\n",
    "        \n",
    "        return f'{self.name} has {len(self.cards)} cards: {self.cards[0]} and {self.cards[1]} '"
   ]
  },
  {
   "cell_type": "code",
   "execution_count": 11,
   "id": "ff70f6f5",
   "metadata": {},
   "outputs": [],
   "source": [
    "class Dealer:\n",
    "    \n",
    "    def __init__(self,name):\n",
    "        self.name = name\n",
    "        self.cards =[]\n",
    "    \n",
    "    def hit (self,add_third_card):\n",
    "        self.cards.append(add_third_card)\n",
    "        \n",
    "    def stay (self):\n",
    "        print(\"New Dealer:Stay!\")\n",
    "    \n",
    "    def __str__(self):\n",
    "        \n",
    "        return f'{self.name} has {len(self.cards)} cards: {self.cards[0]} and {self.cards[1]}'"
   ]
  },
  {
   "cell_type": "code",
   "execution_count": 12,
   "id": "73bed67c",
   "metadata": {},
   "outputs": [],
   "source": [
    "new_dealer = Dealer(\"Computer\")"
   ]
  },
  {
   "cell_type": "code",
   "execution_count": 13,
   "id": "09183cf6",
   "metadata": {},
   "outputs": [],
   "source": [
    "class Chip:\n",
    "    \n",
    "    def __init__(self,rollbank_human_player, rollbank_computer):\n",
    "        self.rollbank_human_player = rollbank_human_player\n",
    "        self.rollbank_computer = rollbank_computer\n",
    " \n",
    "        \n",
    "    def player_one_bet (self):\n",
    "        self.number_chips = int(input(\"Player_one: Enter number of chips you want to bet (1,2,3 ): \"))                         \n",
    "        return self.rollbank_human_player.pop(self.number_chips-1)   \n",
    "    \n",
    "    def new_dealer_bet (self):\n",
    "        self.number_chips = int(input(\"Computer (new_dealer): Enter number of chips you want to bet (1,2,3 ): \"))                         \n",
    "        return self.rollbank_computer.pop(self.number_chips-1)\n",
    "    \n",
    "    def __str__(self):\n",
    "        \n",
    "        return f\" Player's rollbanck account: {self.rollbank}\"\n",
    "    \n",
    "    \n",
    "        \n",
    "    \n",
    "        "
   ]
  },
  {
   "cell_type": "code",
   "execution_count": 14,
   "id": "b34f8306",
   "metadata": {},
   "outputs": [],
   "source": [
    "chips_for_bet = Chip ([\"One\",\"Two\", \"Three\"],[\"One\",\"Two\", \"Three\"])"
   ]
  },
  {
   "cell_type": "code",
   "execution_count": 15,
   "id": "9d15fe51",
   "metadata": {},
   "outputs": [
    {
     "name": "stdout",
     "output_type": "stream",
     "text": [
      "Player_one: Enter number of chips you want to bet (1,2,3 ): 2\n"
     ]
    },
    {
     "data": {
      "text/plain": [
       "'Two'"
      ]
     },
     "execution_count": 15,
     "metadata": {},
     "output_type": "execute_result"
    }
   ],
   "source": [
    "chips_for_bet.player_one_bet() "
   ]
  },
  {
   "cell_type": "code",
   "execution_count": 16,
   "id": "08321728",
   "metadata": {},
   "outputs": [
    {
     "name": "stdout",
     "output_type": "stream",
     "text": [
      "Computer (new_dealer): Enter number of chips you want to bet (1,2,3 ): 3\n"
     ]
    },
    {
     "data": {
      "text/plain": [
       "'Three'"
      ]
     },
     "execution_count": 16,
     "metadata": {},
     "output_type": "execute_result"
    }
   ],
   "source": [
    "chips_for_bet.new_dealer_bet () "
   ]
  },
  {
   "cell_type": "code",
   "execution_count": 16,
   "id": "522e23cf",
   "metadata": {},
   "outputs": [
    {
     "name": "stdout",
     "output_type": "stream",
     "text": [
      "Player_one: Enter number of chips you want to bet (1,2,3 ): 3\n",
      "Computer (new_dealer): Enter number of chips you want to bet (1,2,3 ): 1\n",
      "\n",
      "Sum of Player_One Cards Without The Hit: 13\n",
      "Do You Want To Hit or Stay?: Hit\n",
      "Sum of Player_One Cards After The Hit is Greater Than 21: 23\n",
      "Player One Lost The Game!\n",
      "\n",
      "New dealer has won the bet:['Three', 'One']\n"
     ]
    }
   ],
   "source": [
    "# Game setup\n",
    "import pdb\n",
    "new_deck = Deck()\n",
    "random.shuffle (new_deck.all_cards)\n",
    "player_one = Player(\"Human player\")\n",
    "new_dealer = Dealer(\"Computer\")\n",
    "\n",
    "# while game is on\n",
    "game_on = True\n",
    "\n",
    "while game_on == True:\n",
    "    random.shuffle (new_deck.all_cards)\n",
    "    player_one = Player(\"Human player\")\n",
    "    new_dealer = Dealer(\"Computer\")\n",
    "    chips_for_bet = Chip ([\"One\",\"Two\", \"Three\"],[\"One\",\"Two\", \"Three\"])\n",
    "    \n",
    "    for x in range(2):\n",
    "        player_one.cards.append(new_deck.deal_one())\n",
    "        \n",
    "    bet_chips = []\n",
    "    bet_chips.append(chips_for_bet.player_one_bet())\n",
    "    bet_chips.append(chips_for_bet.new_dealer_bet())\n",
    "        \n",
    "    \n",
    "    sum_player_one_cards = player_one.cards[0].value + player_one.cards[1].value   \n",
    "    \n",
    "    if sum_player_one_cards  > 21:\n",
    "        print(f'\\nSum of Player_One Cards Without The Hit: {sum_player_one_cards}')\n",
    "        print (\"Player One Lost The Game!\")\n",
    "        print (f'\\nNew dealer has won chips:{bet_chips}')\n",
    "        game_on = False\n",
    "        break\n",
    "        \n",
    "    else:\n",
    "        print(f'\\nSum of Player_One Cards Without The Hit: {sum_player_one_cards}')\n",
    "        add_card = input(\"Do You Want To Hit or Stay?: \")\n",
    "        \n",
    "    \n",
    "        if add_card == 'Hit': \n",
    "            add_one_card = new_deck.deal_one()\n",
    "            player_one.hit(add_one_card)\n",
    "            sum_player_one_cards  = sum_player_one_cards  +  player_one.cards[2].value\n",
    "    \n",
    "            if sum_player_one_cards > 21:\n",
    "                \n",
    "                print (f'Sum of Player_One Cards After The Hit is Greater Than 21: {sum_player_one_cards}')\n",
    "                print (\"Player One Lost The Game!\")\n",
    "                print (f'\\nNew dealer has won the bet:{bet_chips}')\n",
    "                game_on = False\n",
    "                break\n",
    "                \n",
    "            else:\n",
    "                print(f'Sum of Player_One Cards After The Hit: {sum_player_one_cards}')\n",
    "            \n",
    "        else: \n",
    "            player_one.stay()\n",
    "            print(\"\\nNew dealer Turn Starts Now!\")\n",
    "            \n",
    "\n",
    "    for y in range(2):\n",
    "        new_dealer.cards.append(new_deck.deal_one())\n",
    "    \n",
    "    sum_new_dealer_cards = new_dealer.cards[0].value\n",
    "    new_dealer_turn = True\n",
    "    index_count = 0\n",
    "    \n",
    "    while new_dealer_turn == True:\n",
    "        index_count = index_count + 1\n",
    "        new_dealer.cards.append(new_deck.deal_one())\n",
    "        sum_new_dealer_cards = sum_new_dealer_cards + new_dealer.cards[index_count ].value\n",
    "        \n",
    "        if sum_new_dealer_cards > 21:\n",
    "            print(f'\\nSum of New Dealer Cards: {sum_new_dealer_cards}')\n",
    "            print (\"New Dealer Lost The Game!\")\n",
    "            print (f'\\nPlayer one has won the bet:{bet_chips}')\n",
    "            new_dealer_turn = False\n",
    "            game_on = False\n",
    "            break\n",
    "\n",
    "        elif (sum_new_dealer_cards < 21) and (sum_new_dealer_cards > sum_player_one_cards):\n",
    "            print (f'\\nSum of New Dealer Cards: {sum_new_dealer_cards}')\n",
    "            print (\"New Dealer Wins The Game!\")\n",
    "            print (f'\\nNew dealer has won the bet:{bet_chips}')\n",
    "            new_dealer_turn = False\n",
    "            game_on = False\n",
    "            break\n",
    "            \n",
    "        else:\n",
    "            pass\n"
   ]
  },
  {
   "cell_type": "code",
   "execution_count": null,
   "id": "59f354e8",
   "metadata": {},
   "outputs": [],
   "source": []
  }
 ],
 "metadata": {
  "kernelspec": {
   "display_name": "Python 3",
   "language": "python",
   "name": "python3"
  },
  "language_info": {
   "codemirror_mode": {
    "name": "ipython",
    "version": 3
   },
   "file_extension": ".py",
   "mimetype": "text/x-python",
   "name": "python",
   "nbconvert_exporter": "python",
   "pygments_lexer": "ipython3",
   "version": "3.8.8"
  }
 },
 "nbformat": 4,
 "nbformat_minor": 5
}
